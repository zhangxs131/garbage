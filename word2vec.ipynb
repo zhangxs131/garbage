{
  "nbformat": 4,
  "nbformat_minor": 0,
  "metadata": {
    "colab": {
      "name": "word2vec.ipynb",
      "provenance": [],
      "collapsed_sections": [],
      "authorship_tag": "ABX9TyPbsmHfSTkoxXNGkYHB9OIg",
      "include_colab_link": true
    },
    "kernelspec": {
      "name": "python3",
      "display_name": "Python 3"
    },
    "language_info": {
      "name": "python"
    }
  },
  "cells": [
    {
      "cell_type": "markdown",
      "metadata": {
        "id": "view-in-github",
        "colab_type": "text"
      },
      "source": [
        "<a href=\"https://colab.research.google.com/github/zhangxs131/garbage/blob/main/word2vec.ipynb\" target=\"_parent\"><img src=\"https://colab.research.google.com/assets/colab-badge.svg\" alt=\"Open In Colab\"/></a>"
      ]
    },
    {
      "cell_type": "code",
      "execution_count": null,
      "metadata": {
        "colab": {
          "base_uri": "https://localhost:8080/"
        },
        "id": "25a0r3FNKWFf",
        "outputId": "972d9254-67e8-4112-ae79-a20cae27cbcf"
      },
      "outputs": [
        {
          "output_type": "stream",
          "name": "stdout",
          "text": [
            "tensor([[ 0.6614,  0.2669,  0.0617,  0.6213, -0.4519],\n",
            "        [-0.1661, -1.5228,  0.3817, -1.0276, -0.5631]],\n",
            "       grad_fn=<EmbeddingBackward0>)\n"
          ]
        }
      ],
      "source": [
        "#词向量的使用\n",
        "import torch\n",
        "import torch.nn as nn\n",
        "import torch.autograd as autograd\n",
        "import torch.nn.functional as F\n",
        "\n",
        "torch.manual_seed(1)\n",
        "embed=nn.Embedding(2,5)\n",
        "vocab={'hello':0,'world':1}\n",
        "input_tensor=torch.LongTensor([vocab['hello'],vocab['world']])\n",
        "embedding=embed(autograd.Variable(input_tensor))\n",
        "print(embedding)"
      ]
    },
    {
      "cell_type": "code",
      "source": [
        "# Ngram 实现，这里tri-gram，即使用i-2,i-1来预测i\n",
        "import matplotlib.pyplot as plt\n",
        "\n",
        "context_size=2\n",
        "embedding_dim=10\n",
        "sentence = \"\"\"When forty winters shall besiege thy brow,\n",
        "And dig deep trenches in thy beauty's field,\n",
        "Thy youth's proud livery so gazed on now,\n",
        "Will be a totter'd weed of small worth held:\n",
        "Then being asked, where all thy beauty lies,\n",
        "Where all the treasure of thy lusty days;\n",
        "To say, within thine own deep sunken eyes,\n",
        "Were an all-eating shame, and thriftless praise.\n",
        "How much more praise deserv'd thy beauty's use,\n",
        "If thou couldst answer 'This fair child of mine\n",
        "Shall sum my count, and make my old excuse,'\n",
        "Proving his beauty by succession thine!\n",
        "This were to be new made when thou art old,\n",
        "And see thy blood warm when thou feel'st it cold.\"\"\".split()\n",
        "\n",
        "tri_grams=[([sentence[i],sentence[i+1]],sentence[i+2]) for i in range(len(sentence)-2)]\n",
        "\n",
        "print(tri_grams[:2])\n",
        "\n",
        "vocab=set(sentence)\n",
        "word_to_idx={word:i for i ,word in enumerate(vocab)}\n",
        "\n",
        "\n",
        "class NgramModel(nn.Module):\n",
        "  def __init__(self,vocab_size,context_size,embedding_dim):\n",
        "    super().__init__()\n",
        "    self.embedding=nn.Embedding(vocab_size,embedding_dim)\n",
        "    self.fc1=nn.Linear(context_size*embedding_dim,128)\n",
        "    self.fc2=nn.Linear(128,vocab_size)\n",
        "\n",
        "  def forward(self,x):\n",
        "    x=self.embedding(x).view(1,-1)\n",
        "    x=F.relu(self.fc1(x))\n",
        "    x=self.fc2(x)\n",
        "    output=F.log_softmax(x,dim=1)\n",
        "    return output\n",
        "\n",
        "#定义模型，损失，优化器\n",
        "losses=[]\n",
        "loss_func=nn.NLLLoss()\n",
        "model=NgramModel(len(vocab),context_size,embedding_dim)\n",
        "optimizer=torch.optim.SGD(model.parameters(),lr=0.001)\n",
        "\n",
        "for epoch in range(1000):\n",
        "  total_loss=torch.Tensor([0])\n",
        "  for data,target in tri_grams:\n",
        "\n",
        "    idx=[word_to_idx[i] for i in data]\n",
        "    var=autograd.Variable(torch.LongTensor(idx))\n",
        "\n",
        "    model.zero_grad()\n",
        "    output=model(var)\n",
        "\n",
        "    loss=loss_func(output,autograd.Variable(torch.LongTensor([word_to_idx[target]])))\n",
        "\n",
        "    loss.backward()\n",
        "    optimizer.step()\n",
        "\n",
        "    total_loss+=loss.data\n",
        "  losses.append(total_loss.numpy()[0])\n",
        "\n",
        "\n",
        "x=[i for i in range(len(losses))]\n",
        "plt.scatter(x,losses)\n",
        "plt.show()"
      ],
      "metadata": {
        "colab": {
          "base_uri": "https://localhost:8080/",
          "height": 283
        },
        "id": "ekdPANl5OZ8q",
        "outputId": "553a1cc6-1659-4d53-b504-0313a3ee8d8b"
      },
      "execution_count": null,
      "outputs": [
        {
          "output_type": "stream",
          "name": "stdout",
          "text": [
            "[(['When', 'forty'], 'winters'), (['forty', 'winters'], 'shall')]\n"
          ]
        },
        {
          "output_type": "display_data",
          "data": {
            "image/png": "[encoded data removed]",
            "text/plain": [
              "<Figure size 432x288 with 1 Axes>"
            ]
          },
          "metadata": {
            "needs_background": "light"
          }
        }
      ]
    },
    {
      "cell_type": "markdown",
      "source": [
        "#CBOW连续词袋模型\n",
        "\n",
        "这里的语言模型与Ngrams类似，不过是从i-2,i-1预测i，改为了，使用i-2,i-1,i+1,i+2预测i，通过上下词来预测中间词的思想"
      ],
      "metadata": {
        "id": "CQU0x2ZIWuqe"
      }
    },
    {
      "cell_type": "code",
      "source": [
        "context_size=2\n",
        "embedding_dim=10\n",
        "sentence = \"\"\"When forty winters shall besiege thy brow,\n",
        "And dig deep trenches in thy beauty's field,\n",
        "Thy youth's proud livery so gazed on now,\n",
        "Will be a totter'd weed of small worth held:\n",
        "Then being asked, where all thy beauty lies,\n",
        "Where all the treasure of thy lusty days;\n",
        "To say, within thine own deep sunken eyes,\n",
        "Were an all-eating shame, and thriftless praise.\n",
        "How much more praise deserv'd thy beauty's use,\n",
        "If thou couldst answer 'This fair child of mine\n",
        "Shall sum my count, and make my old excuse,'\n",
        "Proving his beauty by succession thine!\n",
        "This were to be new made when thou art old,\n",
        "And see thy blood warm when thou feel'st it cold.\"\"\".split()\n",
        "\n",
        "tri_grams=[([sentence[i-2],sentence[i-1],sentence[i+1],sentence[i+2]],sentence[i]) for i in range(2,len(sentence)-2)]\n",
        "\n",
        "print(tri_grams[:2])\n",
        "\n",
        "vocab=set(sentence)\n",
        "word_to_idx={word:i for i ,word in enumerate(vocab)}\n",
        "\n",
        "\n",
        "class CBOWModel(nn.Module):\n",
        "  def __init__(self,vocab_size,context_size,embedding_dim):\n",
        "    super().__init__()\n",
        "    self.embedding=nn.Embedding(vocab_size,embedding_dim)\n",
        "    self.fc1=nn.Linear(2*context_size*embedding_dim,128)\n",
        "    self.fc2=nn.Linear(128,vocab_size)\n",
        "\n",
        "  def forward(self,x):\n",
        "    x=self.embedding(x).view(1,-1)\n",
        "    x=F.relu(self.fc1(x))\n",
        "    x=self.fc2(x)\n",
        "    output=F.log_softmax(x,dim=1)\n",
        "    return output\n",
        "\n",
        "#定义模型，损失，优化器\n",
        "losses=[]\n",
        "loss_func=nn.NLLLoss()\n",
        "model=CBOWModel(len(vocab),context_size,embedding_dim)\n",
        "optimizer=torch.optim.SGD(model.parameters(),lr=0.001)\n",
        "\n",
        "for epoch in range(500):\n",
        "  total_loss=torch.Tensor([0])\n",
        "  for data,target in tri_grams:\n",
        "\n",
        "    idx=[word_to_idx[i] for i in data]\n",
        "    var=autograd.Variable(torch.LongTensor(idx))\n",
        "\n",
        "    model.zero_grad()\n",
        "    output=model(var)\n",
        "\n",
        "    loss=loss_func(output,autograd.Variable(torch.LongTensor([word_to_idx[target]])))\n",
        "\n",
        "    loss.backward()\n",
        "    optimizer.step()\n",
        "\n",
        "    total_loss+=loss.data\n",
        "  losses.append(total_loss.numpy()[0])\n",
        "\n",
        "\n",
        "x=[i for i in range(len(losses))]\n",
        "plt.scatter(x,losses)\n",
        "plt.show()"
      ],
      "metadata": {
        "colab": {
          "base_uri": "https://localhost:8080/",
          "height": 283
        },
        "id": "FGnun0MhP_it",
        "outputId": "4af4af92-191f-4943-9dcc-08f2eb7aea99"
      },
      "execution_count": null,
      "outputs": [
        {
          "output_type": "stream",
          "name": "stdout",
          "text": [
            "[(['When', 'forty', 'shall', 'besiege'], 'winters'), (['forty', 'winters', 'besiege', 'thy'], 'shall')]\n"
          ]
        },
        {
          "output_type": "display_data",
          "data": {
            "image/png": "[encoded data removed]",
            "text/plain": [
              "<Figure size 432x288 with 1 Axes>"
            ]
          },
          "metadata": {
            "needs_background": "light"
          }
        }
      ]
    },
    {
      "cell_type": "markdown",
      "source": [
        "#skip-gram\n",
        "这个语言模型与CBow相反是使用，这里不同的是分别计算i预测i-2,i-1,i+1,i+2,四个的损失进行训练还是一起计算四个平均值进行训练好呢。"
      ],
      "metadata": {
        "id": "u9F6qCGkcKNU"
      }
    },
    {
      "cell_type": "code",
      "source": [
        "context_size=2\n",
        "embedding_dim=10\n",
        "sentence = \"\"\"When forty winters shall besiege thy brow,\n",
        "And dig deep trenches in thy beauty's field,\n",
        "Thy youth's proud livery so gazed on now,\n",
        "Will be a totter'd weed of small worth held:\n",
        "Then being asked, where all thy beauty lies,\n",
        "Where all the treasure of thy lusty days;\n",
        "To say, within thine own deep sunken eyes,\n",
        "Were an all-eating shame, and thriftless praise.\n",
        "How much more praise deserv'd thy beauty's use,\n",
        "If thou couldst answer 'This fair child of mine\n",
        "Shall sum my count, and make my old excuse,'\n",
        "Proving his beauty by succession thine!\n",
        "This were to be new made when thou art old,\n",
        "And see thy blood warm when thou feel'st it cold.\"\"\".split()\n",
        "\n",
        "tri_grams=[([sentence[i-2],sentence[i-1],sentence[i+1],sentence[i+2]],sentence[i]) for i in range(2,len(sentence)-2)]\n",
        "\n",
        "train_data=[]\n",
        "for target,data in tri_grams:\n",
        "  for j in target:\n",
        "    train_data.append([data,j])\n",
        "\n",
        "\n",
        "print(tri_grams[:2])\n",
        "print(train_data[:4])\n",
        "\n",
        "vocab=set(sentence)\n",
        "word_to_idx={word:i for i ,word in enumerate(vocab)}\n",
        "\n",
        "\n",
        "class SkipGramModel(nn.Module):\n",
        "  def __init__(self,vocab_size,context_size,embedding_dim):\n",
        "    super().__init__()\n",
        "    self.embedding=nn.Embedding(vocab_size,embedding_dim)\n",
        "    self.fc1=nn.Linear(embedding_dim,128)\n",
        "    self.fc2=nn.Linear(128,vocab_size)\n",
        "\n",
        "  def forward(self,x):\n",
        "    x=self.embedding(x).view(1,-1)\n",
        "    x=F.relu(self.fc1(x))\n",
        "    x=self.fc2(x)\n",
        "    output=F.log_softmax(x,dim=1)\n",
        "    return output\n",
        "\n",
        "#定义模型，损失，优化器\n",
        "losses=[]\n",
        "loss_func=nn.NLLLoss()\n",
        "model=SkipGramModel(len(vocab),context_size,embedding_dim)\n",
        "optimizer=torch.optim.SGD(model.parameters(),lr=0.001)\n",
        "\n",
        "for epoch in range(1000):\n",
        "  total_loss=torch.Tensor([0])\n",
        "  for data,target in train_data:\n",
        "\n",
        "    idx=[word_to_idx[data]]\n",
        "    var=autograd.Variable(torch.LongTensor(idx))\n",
        "\n",
        "    model.zero_grad()\n",
        "    output=model(var)\n",
        "\n",
        "    loss=loss_func(output,autograd.Variable(torch.LongTensor([word_to_idx[target]])))\n",
        "\n",
        "    loss.backward()\n",
        "    optimizer.step()\n",
        "\n",
        "    total_loss+=loss.data\n",
        "  losses.append(total_loss.numpy()[0])\n",
        "\n",
        "\n",
        "x=[i for i in range(len(losses))]\n",
        "plt.scatter(x,losses)\n",
        "plt.show()"
      ],
      "metadata": {
        "colab": {
          "base_uri": "https://localhost:8080/",
          "height": 302
        },
        "id": "yFDIMPSfe_Tb",
        "outputId": "22c0ccb9-59fb-4a24-e966-2b3811eb933f"
      },
      "execution_count": 21,
      "outputs": [
        {
          "output_type": "stream",
          "name": "stdout",
          "text": [
            "[(['When', 'forty', 'shall', 'besiege'], 'winters'), (['forty', 'winters', 'besiege', 'thy'], 'shall')]\n",
            "[['winters', 'When'], ['winters', 'forty'], ['winters', 'shall'], ['winters', 'besiege']]\n"
          ]
        },
        {
          "output_type": "display_data",
          "data": {
            "image/png": "[encoded data removed]",
            "text/plain": [
              "<Figure size 432x288 with 1 Axes>"
            ]
          },
          "metadata": {
            "needs_background": "light"
          }
        }
      ]
    }
  ]
}